{
 "cells": [
  {
   "cell_type": "markdown",
   "id": "d1e6e418",
   "metadata": {},
   "source": [
    "# Shopping Trends Exploratory Data Analysis"
   ]
  },
  {
   "cell_type": "markdown",
   "id": "6ae75dd9",
   "metadata": {},
   "source": [
    "## Introduction \n",
    "\n",
    "This dataset provides a simulated look into real-word customer behavior and buying habits. Understanding these trends is essential for businesses to refine their products, marketing strategies and overall customer relation management. This Ai-generated data contains a wealth of simulated details, like: demographics, purchase history and preferred payment methods. This AI-generated data simulates real world scenario where a data analyst needs to find answers to crucial business questions."
   ]
  },
  {
   "cell_type": "markdown",
   "id": "2fc05d11",
   "metadata": {},
   "source": [
    "## Dataset Glossary \n",
    "*Customer ID* - Unique identifier for each customer\n",
    "\n",
    "*Age* - Age of the customer\n",
    "\n",
    "*Gender* - Gender of the customer (Male/Female)\n",
    "\n",
    "*Item Purchased* - The item purchased by the customer\n",
    "\n",
    "*Category* - Category of the item purchased\n",
    "\n",
    "*Purchase Amount (USD)* - The amount of the purchase in USD\n",
    "\n",
    "*Location* - Location where the purchase was made\n",
    "\n",
    "*Size* - Size of the purchased item\n",
    "\n",
    "*Color* - Color of the purchased item\n",
    "\n",
    "*Season* - Season during which the purchase was made\n",
    "\n",
    "*Review Rating* - Rating given by the customer for the purchased item\n",
    "\n",
    "*Subscription Status* - Indicates if the customer has a subscription (Yes/No)\n",
    "\n",
    "*Shipping Type* - Type of shipping chosen by the customer\n",
    "\n",
    "*Discount Applied* - Indicates if a discount was applied to the purchase (Yes/No)\n",
    "\n",
    "*Promo Code Used* - Indicates if a promo code was used for the purchase (Yes/No)\n",
    "\n",
    "*Previous Purchases* - The total count of transactions concluded by the customer at the store, excluding the ongoing transaction\n",
    "\n",
    "*Payment Method* - Customer's most preferred payment method\n",
    "\n",
    "*Frequency of Purchases* - Frequency at which the customer makes purchases (e.g., Weekly, Fortnightly, Monthly)"
   ]
  },
  {
   "cell_type": "markdown",
   "id": "212ef824",
   "metadata": {},
   "source": [
    "## 1. Importing Libraries"
   ]
  },
  {
   "cell_type": "code",
   "execution_count": 2,
   "id": "a4efb864",
   "metadata": {},
   "outputs": [],
   "source": [
    "import pandas as pd\n",
    "import matplotlib.pyplot as plt\n",
    "import seaborn as sns\n",
    "import numpy as np"
   ]
  },
  {
   "cell_type": "markdown",
   "id": "3d15dd9f",
   "metadata": {},
   "source": [
    "## 2. Loading the Dataset"
   ]
  },
  {
   "cell_type": "code",
   "execution_count": 3,
   "id": "d15ea3c1",
   "metadata": {},
   "outputs": [
    {
     "data": {
      "text/html": [
       "<div>\n",
       "<style scoped>\n",
       "    .dataframe tbody tr th:only-of-type {\n",
       "        vertical-align: middle;\n",
       "    }\n",
       "\n",
       "    .dataframe tbody tr th {\n",
       "        vertical-align: top;\n",
       "    }\n",
       "\n",
       "    .dataframe thead th {\n",
       "        text-align: right;\n",
       "    }\n",
       "</style>\n",
       "<table border=\"1\" class=\"dataframe\">\n",
       "  <thead>\n",
       "    <tr style=\"text-align: right;\">\n",
       "      <th></th>\n",
       "      <th>Customer ID</th>\n",
       "      <th>Age</th>\n",
       "      <th>Gender</th>\n",
       "      <th>Item Purchased</th>\n",
       "      <th>Category</th>\n",
       "      <th>Purchase Amount (USD)</th>\n",
       "      <th>Location</th>\n",
       "      <th>Size</th>\n",
       "      <th>Color</th>\n",
       "      <th>Season</th>\n",
       "      <th>Review Rating</th>\n",
       "      <th>Subscription Status</th>\n",
       "      <th>Payment Method</th>\n",
       "      <th>Shipping Type</th>\n",
       "      <th>Discount Applied</th>\n",
       "      <th>Promo Code Used</th>\n",
       "      <th>Previous Purchases</th>\n",
       "      <th>Preferred Payment Method</th>\n",
       "      <th>Frequency of Purchases</th>\n",
       "    </tr>\n",
       "  </thead>\n",
       "  <tbody>\n",
       "    <tr>\n",
       "      <th>0</th>\n",
       "      <td>1</td>\n",
       "      <td>55</td>\n",
       "      <td>Male</td>\n",
       "      <td>Blouse</td>\n",
       "      <td>Clothing</td>\n",
       "      <td>53</td>\n",
       "      <td>Kentucky</td>\n",
       "      <td>L</td>\n",
       "      <td>Gray</td>\n",
       "      <td>Winter</td>\n",
       "      <td>3.1</td>\n",
       "      <td>Yes</td>\n",
       "      <td>Credit Card</td>\n",
       "      <td>Express</td>\n",
       "      <td>Yes</td>\n",
       "      <td>Yes</td>\n",
       "      <td>14</td>\n",
       "      <td>Venmo</td>\n",
       "      <td>Fortnightly</td>\n",
       "    </tr>\n",
       "    <tr>\n",
       "      <th>1</th>\n",
       "      <td>2</td>\n",
       "      <td>19</td>\n",
       "      <td>Male</td>\n",
       "      <td>Sweater</td>\n",
       "      <td>Clothing</td>\n",
       "      <td>64</td>\n",
       "      <td>Maine</td>\n",
       "      <td>L</td>\n",
       "      <td>Maroon</td>\n",
       "      <td>Winter</td>\n",
       "      <td>3.1</td>\n",
       "      <td>Yes</td>\n",
       "      <td>Bank Transfer</td>\n",
       "      <td>Express</td>\n",
       "      <td>Yes</td>\n",
       "      <td>Yes</td>\n",
       "      <td>2</td>\n",
       "      <td>Cash</td>\n",
       "      <td>Fortnightly</td>\n",
       "    </tr>\n",
       "    <tr>\n",
       "      <th>2</th>\n",
       "      <td>3</td>\n",
       "      <td>50</td>\n",
       "      <td>Male</td>\n",
       "      <td>Jeans</td>\n",
       "      <td>Clothing</td>\n",
       "      <td>73</td>\n",
       "      <td>Massachusetts</td>\n",
       "      <td>S</td>\n",
       "      <td>Maroon</td>\n",
       "      <td>Spring</td>\n",
       "      <td>3.1</td>\n",
       "      <td>Yes</td>\n",
       "      <td>Cash</td>\n",
       "      <td>Free Shipping</td>\n",
       "      <td>Yes</td>\n",
       "      <td>Yes</td>\n",
       "      <td>23</td>\n",
       "      <td>Credit Card</td>\n",
       "      <td>Weekly</td>\n",
       "    </tr>\n",
       "    <tr>\n",
       "      <th>3</th>\n",
       "      <td>4</td>\n",
       "      <td>21</td>\n",
       "      <td>Male</td>\n",
       "      <td>Sandals</td>\n",
       "      <td>Footwear</td>\n",
       "      <td>90</td>\n",
       "      <td>Rhode Island</td>\n",
       "      <td>M</td>\n",
       "      <td>Maroon</td>\n",
       "      <td>Spring</td>\n",
       "      <td>3.5</td>\n",
       "      <td>Yes</td>\n",
       "      <td>PayPal</td>\n",
       "      <td>Next Day Air</td>\n",
       "      <td>Yes</td>\n",
       "      <td>Yes</td>\n",
       "      <td>49</td>\n",
       "      <td>PayPal</td>\n",
       "      <td>Weekly</td>\n",
       "    </tr>\n",
       "    <tr>\n",
       "      <th>4</th>\n",
       "      <td>5</td>\n",
       "      <td>45</td>\n",
       "      <td>Male</td>\n",
       "      <td>Blouse</td>\n",
       "      <td>Clothing</td>\n",
       "      <td>49</td>\n",
       "      <td>Oregon</td>\n",
       "      <td>M</td>\n",
       "      <td>Turquoise</td>\n",
       "      <td>Spring</td>\n",
       "      <td>2.7</td>\n",
       "      <td>Yes</td>\n",
       "      <td>Cash</td>\n",
       "      <td>Free Shipping</td>\n",
       "      <td>Yes</td>\n",
       "      <td>Yes</td>\n",
       "      <td>31</td>\n",
       "      <td>PayPal</td>\n",
       "      <td>Annually</td>\n",
       "    </tr>\n",
       "    <tr>\n",
       "      <th>...</th>\n",
       "      <td>...</td>\n",
       "      <td>...</td>\n",
       "      <td>...</td>\n",
       "      <td>...</td>\n",
       "      <td>...</td>\n",
       "      <td>...</td>\n",
       "      <td>...</td>\n",
       "      <td>...</td>\n",
       "      <td>...</td>\n",
       "      <td>...</td>\n",
       "      <td>...</td>\n",
       "      <td>...</td>\n",
       "      <td>...</td>\n",
       "      <td>...</td>\n",
       "      <td>...</td>\n",
       "      <td>...</td>\n",
       "      <td>...</td>\n",
       "      <td>...</td>\n",
       "      <td>...</td>\n",
       "    </tr>\n",
       "    <tr>\n",
       "      <th>3895</th>\n",
       "      <td>3896</td>\n",
       "      <td>40</td>\n",
       "      <td>Female</td>\n",
       "      <td>Hoodie</td>\n",
       "      <td>Clothing</td>\n",
       "      <td>28</td>\n",
       "      <td>Virginia</td>\n",
       "      <td>L</td>\n",
       "      <td>Turquoise</td>\n",
       "      <td>Summer</td>\n",
       "      <td>4.2</td>\n",
       "      <td>No</td>\n",
       "      <td>Cash</td>\n",
       "      <td>2-Day Shipping</td>\n",
       "      <td>No</td>\n",
       "      <td>No</td>\n",
       "      <td>32</td>\n",
       "      <td>Venmo</td>\n",
       "      <td>Weekly</td>\n",
       "    </tr>\n",
       "    <tr>\n",
       "      <th>3896</th>\n",
       "      <td>3897</td>\n",
       "      <td>52</td>\n",
       "      <td>Female</td>\n",
       "      <td>Backpack</td>\n",
       "      <td>Accessories</td>\n",
       "      <td>49</td>\n",
       "      <td>Iowa</td>\n",
       "      <td>L</td>\n",
       "      <td>White</td>\n",
       "      <td>Spring</td>\n",
       "      <td>4.5</td>\n",
       "      <td>No</td>\n",
       "      <td>PayPal</td>\n",
       "      <td>Store Pickup</td>\n",
       "      <td>No</td>\n",
       "      <td>No</td>\n",
       "      <td>41</td>\n",
       "      <td>Bank Transfer</td>\n",
       "      <td>Bi-Weekly</td>\n",
       "    </tr>\n",
       "    <tr>\n",
       "      <th>3897</th>\n",
       "      <td>3898</td>\n",
       "      <td>46</td>\n",
       "      <td>Female</td>\n",
       "      <td>Belt</td>\n",
       "      <td>Accessories</td>\n",
       "      <td>33</td>\n",
       "      <td>New Jersey</td>\n",
       "      <td>L</td>\n",
       "      <td>Green</td>\n",
       "      <td>Spring</td>\n",
       "      <td>2.9</td>\n",
       "      <td>No</td>\n",
       "      <td>Credit Card</td>\n",
       "      <td>Standard</td>\n",
       "      <td>No</td>\n",
       "      <td>No</td>\n",
       "      <td>24</td>\n",
       "      <td>Venmo</td>\n",
       "      <td>Quarterly</td>\n",
       "    </tr>\n",
       "    <tr>\n",
       "      <th>3898</th>\n",
       "      <td>3899</td>\n",
       "      <td>44</td>\n",
       "      <td>Female</td>\n",
       "      <td>Shoes</td>\n",
       "      <td>Footwear</td>\n",
       "      <td>77</td>\n",
       "      <td>Minnesota</td>\n",
       "      <td>S</td>\n",
       "      <td>Brown</td>\n",
       "      <td>Summer</td>\n",
       "      <td>3.8</td>\n",
       "      <td>No</td>\n",
       "      <td>PayPal</td>\n",
       "      <td>Express</td>\n",
       "      <td>No</td>\n",
       "      <td>No</td>\n",
       "      <td>24</td>\n",
       "      <td>Venmo</td>\n",
       "      <td>Weekly</td>\n",
       "    </tr>\n",
       "    <tr>\n",
       "      <th>3899</th>\n",
       "      <td>3900</td>\n",
       "      <td>52</td>\n",
       "      <td>Female</td>\n",
       "      <td>Handbag</td>\n",
       "      <td>Accessories</td>\n",
       "      <td>81</td>\n",
       "      <td>California</td>\n",
       "      <td>M</td>\n",
       "      <td>Beige</td>\n",
       "      <td>Spring</td>\n",
       "      <td>3.1</td>\n",
       "      <td>No</td>\n",
       "      <td>Bank Transfer</td>\n",
       "      <td>Store Pickup</td>\n",
       "      <td>No</td>\n",
       "      <td>No</td>\n",
       "      <td>33</td>\n",
       "      <td>Venmo</td>\n",
       "      <td>Quarterly</td>\n",
       "    </tr>\n",
       "  </tbody>\n",
       "</table>\n",
       "<p>3900 rows × 19 columns</p>\n",
       "</div>"
      ],
      "text/plain": [
       "      Customer ID  Age  Gender Item Purchased     Category  \\\n",
       "0               1   55    Male         Blouse     Clothing   \n",
       "1               2   19    Male        Sweater     Clothing   \n",
       "2               3   50    Male          Jeans     Clothing   \n",
       "3               4   21    Male        Sandals     Footwear   \n",
       "4               5   45    Male         Blouse     Clothing   \n",
       "...           ...  ...     ...            ...          ...   \n",
       "3895         3896   40  Female         Hoodie     Clothing   \n",
       "3896         3897   52  Female       Backpack  Accessories   \n",
       "3897         3898   46  Female           Belt  Accessories   \n",
       "3898         3899   44  Female          Shoes     Footwear   \n",
       "3899         3900   52  Female        Handbag  Accessories   \n",
       "\n",
       "      Purchase Amount (USD)       Location Size      Color  Season  \\\n",
       "0                        53       Kentucky    L       Gray  Winter   \n",
       "1                        64          Maine    L     Maroon  Winter   \n",
       "2                        73  Massachusetts    S     Maroon  Spring   \n",
       "3                        90   Rhode Island    M     Maroon  Spring   \n",
       "4                        49         Oregon    M  Turquoise  Spring   \n",
       "...                     ...            ...  ...        ...     ...   \n",
       "3895                     28       Virginia    L  Turquoise  Summer   \n",
       "3896                     49           Iowa    L      White  Spring   \n",
       "3897                     33     New Jersey    L      Green  Spring   \n",
       "3898                     77      Minnesota    S      Brown  Summer   \n",
       "3899                     81     California    M      Beige  Spring   \n",
       "\n",
       "      Review Rating Subscription Status Payment Method   Shipping Type  \\\n",
       "0               3.1                 Yes    Credit Card         Express   \n",
       "1               3.1                 Yes  Bank Transfer         Express   \n",
       "2               3.1                 Yes           Cash   Free Shipping   \n",
       "3               3.5                 Yes         PayPal    Next Day Air   \n",
       "4               2.7                 Yes           Cash   Free Shipping   \n",
       "...             ...                 ...            ...             ...   \n",
       "3895            4.2                  No           Cash  2-Day Shipping   \n",
       "3896            4.5                  No         PayPal    Store Pickup   \n",
       "3897            2.9                  No    Credit Card        Standard   \n",
       "3898            3.8                  No         PayPal         Express   \n",
       "3899            3.1                  No  Bank Transfer    Store Pickup   \n",
       "\n",
       "     Discount Applied Promo Code Used  Previous Purchases  \\\n",
       "0                 Yes             Yes                  14   \n",
       "1                 Yes             Yes                   2   \n",
       "2                 Yes             Yes                  23   \n",
       "3                 Yes             Yes                  49   \n",
       "4                 Yes             Yes                  31   \n",
       "...               ...             ...                 ...   \n",
       "3895               No              No                  32   \n",
       "3896               No              No                  41   \n",
       "3897               No              No                  24   \n",
       "3898               No              No                  24   \n",
       "3899               No              No                  33   \n",
       "\n",
       "     Preferred Payment Method Frequency of Purchases  \n",
       "0                       Venmo            Fortnightly  \n",
       "1                        Cash            Fortnightly  \n",
       "2                 Credit Card                 Weekly  \n",
       "3                      PayPal                 Weekly  \n",
       "4                      PayPal               Annually  \n",
       "...                       ...                    ...  \n",
       "3895                    Venmo                 Weekly  \n",
       "3896            Bank Transfer              Bi-Weekly  \n",
       "3897                    Venmo              Quarterly  \n",
       "3898                    Venmo                 Weekly  \n",
       "3899                    Venmo              Quarterly  \n",
       "\n",
       "[3900 rows x 19 columns]"
      ]
     },
     "execution_count": 3,
     "metadata": {},
     "output_type": "execute_result"
    }
   ],
   "source": [
    "df = pd.read_csv(r\"C:\\Users\\xarda\\Desktop\\datasets\\shopping_trends.csv\")\n",
    "df"
   ]
  },
  {
   "cell_type": "markdown",
   "id": "f941d3ff",
   "metadata": {},
   "source": [
    "## 3. Information about Dataset"
   ]
  },
  {
   "cell_type": "code",
   "execution_count": 4,
   "id": "1db8dac8",
   "metadata": {},
   "outputs": [
    {
     "name": "stdout",
     "output_type": "stream",
     "text": [
      "<class 'pandas.core.frame.DataFrame'>\n",
      "RangeIndex: 3900 entries, 0 to 3899\n",
      "Data columns (total 19 columns):\n",
      " #   Column                    Non-Null Count  Dtype  \n",
      "---  ------                    --------------  -----  \n",
      " 0   Customer ID               3900 non-null   int64  \n",
      " 1   Age                       3900 non-null   int64  \n",
      " 2   Gender                    3900 non-null   object \n",
      " 3   Item Purchased            3900 non-null   object \n",
      " 4   Category                  3900 non-null   object \n",
      " 5   Purchase Amount (USD)     3900 non-null   int64  \n",
      " 6   Location                  3900 non-null   object \n",
      " 7   Size                      3900 non-null   object \n",
      " 8   Color                     3900 non-null   object \n",
      " 9   Season                    3900 non-null   object \n",
      " 10  Review Rating             3900 non-null   float64\n",
      " 11  Subscription Status       3900 non-null   object \n",
      " 12  Payment Method            3900 non-null   object \n",
      " 13  Shipping Type             3900 non-null   object \n",
      " 14  Discount Applied          3900 non-null   object \n",
      " 15  Promo Code Used           3900 non-null   object \n",
      " 16  Previous Purchases        3900 non-null   int64  \n",
      " 17  Preferred Payment Method  3900 non-null   object \n",
      " 18  Frequency of Purchases    3900 non-null   object \n",
      "dtypes: float64(1), int64(4), object(14)\n",
      "memory usage: 579.0+ KB\n"
     ]
    }
   ],
   "source": [
    "df.info()"
   ]
  },
  {
   "cell_type": "code",
   "execution_count": 5,
   "id": "e396cda0",
   "metadata": {},
   "outputs": [
    {
     "data": {
      "text/html": [
       "<div>\n",
       "<style scoped>\n",
       "    .dataframe tbody tr th:only-of-type {\n",
       "        vertical-align: middle;\n",
       "    }\n",
       "\n",
       "    .dataframe tbody tr th {\n",
       "        vertical-align: top;\n",
       "    }\n",
       "\n",
       "    .dataframe thead th {\n",
       "        text-align: right;\n",
       "    }\n",
       "</style>\n",
       "<table border=\"1\" class=\"dataframe\">\n",
       "  <thead>\n",
       "    <tr style=\"text-align: right;\">\n",
       "      <th></th>\n",
       "      <th>Customer ID</th>\n",
       "      <th>Age</th>\n",
       "      <th>Purchase Amount (USD)</th>\n",
       "      <th>Review Rating</th>\n",
       "      <th>Previous Purchases</th>\n",
       "    </tr>\n",
       "  </thead>\n",
       "  <tbody>\n",
       "    <tr>\n",
       "      <th>count</th>\n",
       "      <td>3900.000000</td>\n",
       "      <td>3900.000000</td>\n",
       "      <td>3900.000000</td>\n",
       "      <td>3900.000000</td>\n",
       "      <td>3900.000000</td>\n",
       "    </tr>\n",
       "    <tr>\n",
       "      <th>mean</th>\n",
       "      <td>1950.500000</td>\n",
       "      <td>44.068462</td>\n",
       "      <td>59.764359</td>\n",
       "      <td>3.749949</td>\n",
       "      <td>25.351538</td>\n",
       "    </tr>\n",
       "    <tr>\n",
       "      <th>std</th>\n",
       "      <td>1125.977353</td>\n",
       "      <td>15.207589</td>\n",
       "      <td>23.685392</td>\n",
       "      <td>0.716223</td>\n",
       "      <td>14.447125</td>\n",
       "    </tr>\n",
       "    <tr>\n",
       "      <th>min</th>\n",
       "      <td>1.000000</td>\n",
       "      <td>18.000000</td>\n",
       "      <td>20.000000</td>\n",
       "      <td>2.500000</td>\n",
       "      <td>1.000000</td>\n",
       "    </tr>\n",
       "    <tr>\n",
       "      <th>25%</th>\n",
       "      <td>975.750000</td>\n",
       "      <td>31.000000</td>\n",
       "      <td>39.000000</td>\n",
       "      <td>3.100000</td>\n",
       "      <td>13.000000</td>\n",
       "    </tr>\n",
       "    <tr>\n",
       "      <th>50%</th>\n",
       "      <td>1950.500000</td>\n",
       "      <td>44.000000</td>\n",
       "      <td>60.000000</td>\n",
       "      <td>3.700000</td>\n",
       "      <td>25.000000</td>\n",
       "    </tr>\n",
       "    <tr>\n",
       "      <th>75%</th>\n",
       "      <td>2925.250000</td>\n",
       "      <td>57.000000</td>\n",
       "      <td>81.000000</td>\n",
       "      <td>4.400000</td>\n",
       "      <td>38.000000</td>\n",
       "    </tr>\n",
       "    <tr>\n",
       "      <th>max</th>\n",
       "      <td>3900.000000</td>\n",
       "      <td>70.000000</td>\n",
       "      <td>100.000000</td>\n",
       "      <td>5.000000</td>\n",
       "      <td>50.000000</td>\n",
       "    </tr>\n",
       "  </tbody>\n",
       "</table>\n",
       "</div>"
      ],
      "text/plain": [
       "       Customer ID          Age  Purchase Amount (USD)  Review Rating  \\\n",
       "count  3900.000000  3900.000000            3900.000000    3900.000000   \n",
       "mean   1950.500000    44.068462              59.764359       3.749949   \n",
       "std    1125.977353    15.207589              23.685392       0.716223   \n",
       "min       1.000000    18.000000              20.000000       2.500000   \n",
       "25%     975.750000    31.000000              39.000000       3.100000   \n",
       "50%    1950.500000    44.000000              60.000000       3.700000   \n",
       "75%    2925.250000    57.000000              81.000000       4.400000   \n",
       "max    3900.000000    70.000000             100.000000       5.000000   \n",
       "\n",
       "       Previous Purchases  \n",
       "count         3900.000000  \n",
       "mean            25.351538  \n",
       "std             14.447125  \n",
       "min              1.000000  \n",
       "25%             13.000000  \n",
       "50%             25.000000  \n",
       "75%             38.000000  \n",
       "max             50.000000  "
      ]
     },
     "execution_count": 5,
     "metadata": {},
     "output_type": "execute_result"
    }
   ],
   "source": [
    "df.describe()"
   ]
  },
  {
   "cell_type": "markdown",
   "id": "2ebf913d",
   "metadata": {},
   "source": [
    "## 4. Checking if there are any null values or duplicates"
   ]
  },
  {
   "cell_type": "code",
   "execution_count": 3,
   "id": "c1b7ac49",
   "metadata": {},
   "outputs": [
    {
     "data": {
      "text/plain": [
       "Customer ID                 0\n",
       "Age                         0\n",
       "Gender                      0\n",
       "Item Purchased              0\n",
       "Category                    0\n",
       "Purchase Amount (USD)       0\n",
       "Location                    0\n",
       "Size                        0\n",
       "Color                       0\n",
       "Season                      0\n",
       "Review Rating               0\n",
       "Subscription Status         0\n",
       "Payment Method              0\n",
       "Shipping Type               0\n",
       "Discount Applied            0\n",
       "Promo Code Used             0\n",
       "Previous Purchases          0\n",
       "Preferred Payment Method    0\n",
       "Frequency of Purchases      0\n",
       "dtype: int64"
      ]
     },
     "execution_count": 3,
     "metadata": {},
     "output_type": "execute_result"
    }
   ],
   "source": [
    "df.isnull().sum()"
   ]
  },
  {
   "cell_type": "code",
   "execution_count": 8,
   "id": "946ae1a5",
   "metadata": {},
   "outputs": [
    {
     "data": {
      "text/plain": [
       "0"
      ]
     },
     "execution_count": 8,
     "metadata": {},
     "output_type": "execute_result"
    }
   ],
   "source": [
    "df.duplicated().sum()"
   ]
  },
  {
   "cell_type": "markdown",
   "id": "084d39d7",
   "metadata": {},
   "source": [
    "## 5. Exploratory Data Analysis"
   ]
  },
  {
   "cell_type": "markdown",
   "id": "c852bf86",
   "metadata": {},
   "source": [
    "#### Question 1: Which product category sold best and generated the most revenue?"
   ]
  },
  {
   "cell_type": "code",
   "execution_count": 7,
   "id": "331a6b68",
   "metadata": {},
   "outputs": [
    {
     "name": "stdout",
     "output_type": "stream",
     "text": [
      "Category\n",
      "Accessories    1240\n",
      "Clothing       1737\n",
      "Footwear        599\n",
      "Outerwear       324\n",
      "Name: Category, dtype: int64\n"
     ]
    }
   ],
   "source": [
    "the_most_sold = df.groupby('Category')['Category'].count()\n",
    "print(the_most_sold)"
   ]
  },
  {
   "cell_type": "code",
   "execution_count": 30,
   "id": "1c8c32ee",
   "metadata": {},
   "outputs": [
    {
     "data": {
      "image/png": "[encoded data removed]",
      "text/plain": [
       "<Figure size 640x480 with 1 Axes>"
      ]
     },
     "metadata": {},
     "output_type": "display_data"
    }
   ],
   "source": [
    "colors = ['red', 'blue', 'green', 'orange', 'purple']\n",
    "\n",
    "#grouping by category and counting occurrences\n",
    "sold_the_best = df.groupby('Category').size()\n",
    "category_var = sold_the_best.index\n",
    "\n",
    "#plot\n",
    "plt.bar(category_var, sold_the_best, color=colors)\n",
    "plt.xticks(rotation=45) \n",
    "plt.title('The most sold category')\n",
    "plt.xlabel('Category')\n",
    "plt.ylabel('Quantity sold')\n",
    "plt.tight_layout()\n",
    "\n",
    "plt.show()"
   ]
  },
  {
   "cell_type": "code",
   "execution_count": 75,
   "id": "0a41a038",
   "metadata": {},
   "outputs": [
    {
     "data": {
      "image/png": "[encoded data removed]",
      "text/plain": [
       "<Figure size 640x480 with 1 Axes>"
      ]
     },
     "metadata": {},
     "output_type": "display_data"
    }
   ],
   "source": [
    "#calculating the revenue\n",
    "revenue = df.groupby('Category')['Purchase Amount (USD)'].sum()\n",
    "\n",
    "category_group = df.groupby('Category')\n",
    "category_var = [category for category, df in category_group]\n",
    "\n",
    "#creating the plot\n",
    "plt.bar(category_var, revenue, color=colors)\n",
    "plt.xticks(category_var, rotation=45, size=8)\n",
    "plt.title('Highest revenue category')\n",
    "plt.xlabel('Category')\n",
    "plt.ylabel('Revenue in USD')\n",
    "\n",
    "plt.show()"
   ]
  },
  {
   "cell_type": "markdown",
   "id": "c27890a9",
   "metadata": {},
   "source": [
    "#### Question 2: What is the average purchase in each category ($)?"
   ]
  },
  {
   "cell_type": "code",
   "execution_count": 6,
   "id": "4e28b1c7",
   "metadata": {},
   "outputs": [
    {
     "name": "stdout",
     "output_type": "stream",
     "text": [
      "The average purchase in Accessories category is: 59.84$.\n",
      "The average purchase in Clothing category is: 60.03$.\n",
      "The average purchase in Footwear category is: 60.26$.\n",
      "The average purchase in Outerwear category is: 57.17$.\n"
     ]
    }
   ],
   "source": [
    "average_purchase_value = df.groupby('Category')['Purchase Amount (USD)'].mean()\n",
    "\n",
    "avg_pur_dict = average_purchase_value.to_dict()\n",
    "\n",
    "for key, value in avg_pur_dict.items():\n",
    "    print(f'The average purchase in {key} category is: {round(value,2)}$.')\n"
   ]
  },
  {
   "cell_type": "markdown",
   "id": "72a07192",
   "metadata": {},
   "source": [
    "#### Question 3: What is the most popular color among orders?"
   ]
  },
  {
   "cell_type": "code",
   "execution_count": 5,
   "id": "da4418e2",
   "metadata": {},
   "outputs": [
    {
     "name": "stdout",
     "output_type": "stream",
     "text": [
      "Olive-colored orders were ordered most frequently (177).\n"
     ]
    }
   ],
   "source": [
    "#looking for the most popular color among orders\n",
    "counted_color_max = df['Color'].value_counts().max()\n",
    "counted_color_max_name = df['Color'].value_counts().idxmax()\n",
    "\n",
    "\n",
    "print(f'{counted_color_max_name}-colored orders were ordered most frequently ({counted_color_max}).')"
   ]
  },
  {
   "cell_type": "markdown",
   "id": "bc65fa48",
   "metadata": {},
   "source": [
    "#### Question 4: Which category received the highest median rating?"
   ]
  },
  {
   "cell_type": "code",
   "execution_count": 41,
   "id": "acbda207",
   "metadata": {},
   "outputs": [
    {
     "data": {
      "image/png": "[encoded data removed]",
      "text/plain": [
       "<Figure size 800x600 with 1 Axes>"
      ]
     },
     "metadata": {},
     "output_type": "display_data"
    }
   ],
   "source": [
    "#calculating median rating for each category\n",
    "median_rating = df.groupby('Category')['Review Rating'].median()\n",
    "\n",
    "#converting to dictionary \n",
    "rating_dict = median_rating.to_dict()\n",
    "\n",
    "#defining unique colors for each category\n",
    "colors = ['red', 'blue', 'green', 'purple']\n",
    "\n",
    "plt.figure(figsize=(8, 6))\n",
    "bars = plt.barh(list(rating_dict.keys()), list(rating_dict.values()), color=colors)\n",
    "plt.xlabel('Median Rating')\n",
    "plt.ylabel('Category')\n",
    "plt.title('Median Rating by Category')\n",
    "\n",
    "#adding values on top of the bars\n",
    "for bar in bars:\n",
    "    plt.text(bar.get_width(), bar.get_y() + bar.get_height() / 2, str(round(bar.get_width(), 2)), ha='left', va='center')\n",
    "\n",
    "plt.tight_layout()\n",
    "plt.show()"
   ]
  },
  {
   "cell_type": "markdown",
   "id": "2686ca7f",
   "metadata": {},
   "source": [
    "#### Question 5: What is the most popular payment method among Women?"
   ]
  },
  {
   "cell_type": "code",
   "execution_count": 69,
   "id": "5caf73e5",
   "metadata": {},
   "outputs": [
    {
     "data": {
      "image/png": "[encoded data removed]",
      "text/plain": [
       "<Figure size 800x600 with 1 Axes>"
      ]
     },
     "metadata": {},
     "output_type": "display_data"
    },
    {
     "name": "stdout",
     "output_type": "stream",
     "text": [
      "The payment method with the highest count for female customers is \"Credit Card\" with 223 payments.\n"
     ]
    }
   ],
   "source": [
    "#counting payment methods for female customers\n",
    "payment_method = df.loc[df['Gender'] == 'Female', 'Payment Method'].value_counts()\n",
    "\n",
    "#defining softer colors\n",
    "colors = ['#FF9999', '#66B2FF', '#FF66CC', '#6699FF', '#FFCC66', '#66FF99']\n",
    "\n",
    "plt.figure(figsize=(8, 6))\n",
    "#using a uniform explode value for all slices\n",
    "explode = [0.1] * len(payment_method)\n",
    "patches, _, _ = plt.pie(payment_method, autopct='%1.1f%%', startangle=40, colors=colors, explode=explode)\n",
    "\n",
    "plt.title('Payment Methods for Female Customers in %')\n",
    "\n",
    "#adding titles to each piece in the pie chart\n",
    "for i, (label, value) in enumerate(payment_method.items()):\n",
    "    angle = np.deg2rad((patches[i].theta2 + patches[i].theta1) / 2)  # Convert angle to radians\n",
    "    radius = 1.2  # Place the text slightly outside the pie\n",
    "    x = radius * np.cos(angle)\n",
    "    y = radius * np.sin(angle)\n",
    "    if x > 0:\n",
    "        ha = 'left'\n",
    "    else:\n",
    "        ha = 'right'\n",
    "    plt.text(x, y, f'{label}: {value}', horizontalalignment=ha, verticalalignment='center')\n",
    "\n",
    "plt.tight_layout()\n",
    "plt.show()\n",
    "print(f'The payment method with the highest count for female customers is \"{max_payment_method}\" with {max_count} payments.')"
   ]
  },
  {
   "cell_type": "markdown",
   "id": "43a6035c",
   "metadata": {},
   "source": [
    "#### Question 6: Present the percentage share of each type of delivery in the delivery category."
   ]
  },
  {
   "cell_type": "code",
   "execution_count": 49,
   "id": "b1b19253",
   "metadata": {
    "scrolled": true
   },
   "outputs": [
    {
     "name": "stdout",
     "output_type": "stream",
     "text": [
      "The percentage share of 2-Day Shipping in delivery types among orderis is: 16.08%.\n",
      "The percentage share of Express in delivery types among orderis is: 16.56%.\n",
      "The percentage share of Free Shipping in delivery types among orderis is: 17.31%.\n",
      "The percentage share of Next Day Air in delivery types among orderis is: 16.62%.\n",
      "The percentage share of Standard in delivery types among orderis is: 16.77%.\n",
      "The percentage share of Store Pickup in delivery types among orderis is: 16.67%.\n"
     ]
    }
   ],
   "source": [
    "delivery_types = df.groupby('Shipping Type')['Shipping Type'].count().to_dict()\n",
    "total = sum(delivery_types.values())\n",
    "\n",
    "for key, value in delivery_types.items():\n",
    "    percentage = (value / total) * 100\n",
    "    print(f\"The percentage share of {key} in delivery types among orderis is: {percentage:.2f}%.\")"
   ]
  },
  {
   "cell_type": "markdown",
   "id": "5466c5d8",
   "metadata": {},
   "source": [
    "#### Question 7: Create a table showing all types of shopping frequency by age range."
   ]
  },
  {
   "cell_type": "code",
   "execution_count": 53,
   "id": "8f0b4013",
   "metadata": {},
   "outputs": [
    {
     "name": "stdout",
     "output_type": "stream",
     "text": [
      "Age Brackets  Frequency of Purchases\n",
      "18-24         Annually                   84\n",
      "              Bi-Weekly                  71\n",
      "              Every 3 Months             81\n",
      "              Fortnightly                72\n",
      "              Monthly                    64\n",
      "              Quarterly                  68\n",
      "              Weekly                     62\n",
      "25-35         Annually                   87\n",
      "              Bi-Weekly                 121\n",
      "              Every 3 Months            113\n",
      "              Fortnightly               105\n",
      "              Monthly                   109\n",
      "              Quarterly                 109\n",
      "              Weekly                     98\n",
      "36-45         Annually                  115\n",
      "              Bi-Weekly                  91\n",
      "              Every 3 Months            109\n",
      "              Fortnightly               104\n",
      "              Monthly                   111\n",
      "              Quarterly                  92\n",
      "              Weekly                    107\n",
      "46-65         Annually                  226\n",
      "              Bi-Weekly                 207\n",
      "              Every 3 Months            212\n",
      "              Fortnightly               210\n",
      "              Monthly                   208\n",
      "              Quarterly                 224\n",
      "              Weekly                    216\n",
      "66-80         Annually                   50\n",
      "              Bi-Weekly                  47\n",
      "              Every 3 Months             57\n",
      "              Fortnightly                41\n",
      "              Monthly                    54\n",
      "              Quarterly                  59\n",
      "              Weekly                     47\n",
      "dtype: int64\n"
     ]
    }
   ],
   "source": [
    "#creating age brackets\n",
    "brackets = [18, 25, 35, 45, 65, 80]\n",
    "\n",
    "df['Age Brackets'] = pd.cut(df['Age'], bins=brackets, labels=['18-24', '25-35', '36-45', '46-65', '66-80'])\n",
    "\n",
    "#grouping by age brackets\n",
    "frequency = df.groupby('Frequency of Purchases')['Age Brackets'].count()\n",
    "\n",
    "#counting age brackets with frequency of purchases\n",
    "compared_frequency = df.groupby(['Age Brackets', 'Frequency of Purchases']).size()\n",
    "print(compared_frequency)"
   ]
  },
  {
   "cell_type": "markdown",
   "id": "984671bd",
   "metadata": {},
   "source": [
    "#### Question 8: Which gender spends more on footwear?"
   ]
  },
  {
   "cell_type": "code",
   "execution_count": 48,
   "id": "47d273ec",
   "metadata": {},
   "outputs": [
    {
     "name": "stdout",
     "output_type": "stream",
     "text": [
      "Category  Accessories  Clothing  Footwear  Outerwear\n",
      "Gender                                              \n",
      "Female            392       556       199        101\n",
      "Male              848      1181       400        223\n"
     ]
    }
   ],
   "source": [
    "#creating filtered df\n",
    "footwear = df.groupby(['Gender', 'Category']).size().unstack(fill_value=0)\n",
    "print(footwear)"
   ]
  },
  {
   "cell_type": "code",
   "execution_count": 71,
   "id": "6c0cd200",
   "metadata": {},
   "outputs": [
    {
     "data": {
      "image/png": "[encoded data removed]",
      "text/plain": [
       "<Figure size 640x480 with 1 Axes>"
      ]
     },
     "metadata": {},
     "output_type": "display_data"
    }
   ],
   "source": [
    "#filtering the DataFrame to include only 'footwear' category\n",
    "footwear_df = df[df['Category'] == 'Footwear']\n",
    "\n",
    "#grouping by 'Gender' and calculate the sum of 'Purchase Amount (USD)'\n",
    "revenue_footwear = footwear_df.groupby('Gender')['Purchase Amount (USD)'].sum()\n",
    "\n",
    "#creating a list of unique gender values\n",
    "category_var = df['Gender'].unique()\n",
    "\n",
    "#creating the plot\n",
    "plt.bar(category_var, revenue_footwear,color=colors)\n",
    "plt.xticks(rotation='vertical', size=8)\n",
    "plt.title('The Highest Revenue on Footwear')\n",
    "plt.xlabel('Gender')\n",
    "plt.ylabel('Revenue in USD')\n",
    "\n",
    "plt.show()\n"
   ]
  },
  {
   "cell_type": "markdown",
   "id": "f0cfe4c4",
   "metadata": {},
   "source": [
    "#### Question 9: What product category do California men most often buy?"
   ]
  },
  {
   "cell_type": "code",
   "execution_count": 70,
   "id": "b1a03e04",
   "metadata": {},
   "outputs": [
    {
     "name": "stdout",
     "output_type": "stream",
     "text": [
      "The most ordered category by men in California is Clothing with 28 orders.\n"
     ]
    }
   ],
   "source": [
    "#filtering the df to include only 'male' gender\n",
    "male = df[df['Gender'] == 'Male']\n",
    "#filtering the df to include only 'California' location\n",
    "california_male = male[male['Location'] == 'California']\n",
    "#grouping by Category and calculating the number of orders\n",
    "orders_category = california_male.groupby(['Category']).size().to_dict() #creating dictionary\n",
    "\n",
    "#max value and max key from dictionary\n",
    "max_value = max(orders_category.values())\n",
    "the_most_ordered_category = max(orders_category, key=orders_category.get)\n",
    "\n",
    "print(f'The most ordered category by men in California is {the_most_ordered_category} with {max_value} orders.')"
   ]
  },
  {
   "cell_type": "markdown",
   "id": "93ef7582",
   "metadata": {},
   "source": [
    "#### Question 10: What time of year did Kentucky women place the most orders?"
   ]
  },
  {
   "cell_type": "code",
   "execution_count": 77,
   "id": "9138d550",
   "metadata": {},
   "outputs": [
    {
     "name": "stdout",
     "output_type": "stream",
     "text": [
      "The most orders by females located in Kentucky were in Spring with 15 orders.\n"
     ]
    }
   ],
   "source": [
    "#filtering the data to include only 'female' gender\n",
    "female = df[df['Gender'] == 'Male']\n",
    "#filternig the data to include only 'Kentucky' location\n",
    "kentucky_female = female[female['Location'] == 'Kentucky']\n",
    "orders_season = kentucky_female.groupby(['Season']).size().to_dict()\n",
    "\n",
    "#max value and max key from dictionary\n",
    "max_value = max(orders_season.values())\n",
    "the_best_season = max(orders_season, key=orders_season.get)\n",
    "\n",
    "print(f'The most orders by females located in Kentucky were in {the_best_season} with {max_value} orders.')"
   ]
  }
 ],
 "metadata": {
  "kernelspec": {
   "display_name": "Python 3 (ipykernel)",
   "language": "python",
   "name": "python3"
  },
  "language_info": {
   "codemirror_mode": {
    "name": "ipython",
    "version": 3
   },
   "file_extension": ".py",
   "mimetype": "text/x-python",
   "name": "python",
   "nbconvert_exporter": "python",
   "pygments_lexer": "ipython3",
   "version": "3.11.5"
  }
 },
 "nbformat": 4,
 "nbformat_minor": 5
}
